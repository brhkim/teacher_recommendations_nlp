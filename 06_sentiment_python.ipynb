{
 "cells": [
  {
   "cell_type": "markdown",
   "metadata": {
    "id": "CPs-DM2VCxsi"
   },
   "source": [
    "# Basic Setup\n"
   ]
  },
  {
   "cell_type": "markdown",
   "metadata": {
    "id": "C5ypF5nCMn_s"
   },
   "source": [
    "### Import libraries"
   ]
  },
  {
   "cell_type": "code",
   "execution_count": 1,
   "metadata": {
    "id": "bHVXjMuWBNun"
   },
   "outputs": [
    {
     "name": "stderr",
     "output_type": "stream",
     "text": [
      "2021-12-28 13:23:49.897509: I tensorflow/stream_executor/platform/default/dso_loader.cc:49] Successfully opened dynamic library libcudart.so.11.0\n"
     ]
    }
   ],
   "source": [
    "import os\n",
    "import pandas as pd\n",
    "import numpy as np\n",
    "import time\n",
    "import seaborn as sns\n",
    "import matplotlib.pyplot as plt\n",
    "import tensorflow as tf\n",
    "\n",
    "from sklearn import model_selection\n",
    "from sklearn import ensemble\n",
    "from sklearn.model_selection import RandomizedSearchCV\n",
    "from sklearn.metrics import confusion_matrix \n",
    "from sklearn.metrics import accuracy_score \n",
    "from sklearn.metrics import classification_report \n",
    "\n",
    "from sklearn.model_selection import cross_val_score\n",
    "\n",
    "from transformers import AutoTokenizer, AutoModelForSequenceClassification, pipeline, AutoModelForSeq2SeqLM\n",
    "\n",
    "import stanza\n",
    "# stanza.download('en')"
   ]
  },
  {
   "cell_type": "markdown",
   "metadata": {
    "id": "pL3AHq99MuD7"
   },
   "source": [
    "### Check that GPU loaded correctly"
   ]
  },
  {
   "cell_type": "code",
   "execution_count": 2,
   "metadata": {
    "colab": {
     "base_uri": "https://localhost:8080/"
    },
    "executionInfo": {
     "elapsed": 16672,
     "status": "ok",
     "timestamp": 1617289224468,
     "user": {
      "displayName": "Brian Kim",
      "photoUrl": "https://lh3.googleusercontent.com/a-/AOh14GheK6fjKCJnJKGaH7uYzy5meG555MjbR-ZMdGLarA=s64",
      "userId": "17231552563920409361"
     },
     "user_tz": 240
    },
    "id": "np7bvcrXO_xT",
    "outputId": "a466cce0-eb36-423e-8834-e967bdd4e6f1"
   },
   "outputs": [
    {
     "name": "stdout",
     "output_type": "stream",
     "text": [
      "Found GPU at: /device:GPU:0\n"
     ]
    },
    {
     "name": "stderr",
     "output_type": "stream",
     "text": [
      "2021-12-28 13:23:55.777340: I tensorflow/core/platform/cpu_feature_guard.cc:142] This TensorFlow binary is optimized with oneAPI Deep Neural Network Library (oneDNN) to use the following CPU instructions in performance-critical operations:  AVX2 FMA\n",
      "To enable them in other operations, rebuild TensorFlow with the appropriate compiler flags.\n",
      "2021-12-28 13:23:55.779490: I tensorflow/compiler/jit/xla_gpu_device.cc:99] Not creating XLA devices, tf_xla_enable_xla_devices not set\n",
      "2021-12-28 13:23:55.781067: I tensorflow/stream_executor/platform/default/dso_loader.cc:49] Successfully opened dynamic library libcuda.so.1\n",
      "2021-12-28 13:23:55.847353: I tensorflow/core/common_runtime/gpu/gpu_device.cc:1720] Found device 0 with properties: \n",
      "pciBusID: 0000:84:00.0 name: Tesla K80 computeCapability: 3.7\n",
      "coreClock: 0.8235GHz coreCount: 13 deviceMemorySize: 11.17GiB deviceMemoryBandwidth: 223.96GiB/s\n",
      "2021-12-28 13:23:55.847390: I tensorflow/stream_executor/platform/default/dso_loader.cc:49] Successfully opened dynamic library libcudart.so.11.0\n",
      "2021-12-28 13:23:56.084338: I tensorflow/stream_executor/platform/default/dso_loader.cc:49] Successfully opened dynamic library libcublas.so.11\n",
      "2021-12-28 13:23:56.084483: I tensorflow/stream_executor/platform/default/dso_loader.cc:49] Successfully opened dynamic library libcublasLt.so.11\n",
      "2021-12-28 13:23:56.116649: I tensorflow/stream_executor/platform/default/dso_loader.cc:49] Successfully opened dynamic library libcufft.so.10\n",
      "2021-12-28 13:23:56.221072: I tensorflow/stream_executor/platform/default/dso_loader.cc:49] Successfully opened dynamic library libcurand.so.10\n",
      "2021-12-28 13:23:56.301078: I tensorflow/stream_executor/platform/default/dso_loader.cc:49] Successfully opened dynamic library libcusolver.so.10\n",
      "2021-12-28 13:23:56.333101: I tensorflow/stream_executor/platform/default/dso_loader.cc:49] Successfully opened dynamic library libcusparse.so.11\n",
      "2021-12-28 13:23:56.334587: I tensorflow/stream_executor/platform/default/dso_loader.cc:49] Successfully opened dynamic library libcudnn.so.8\n",
      "2021-12-28 13:23:56.339559: I tensorflow/core/common_runtime/gpu/gpu_device.cc:1862] Adding visible gpu devices: 0\n",
      "2021-12-28 13:23:56.341350: I tensorflow/stream_executor/platform/default/dso_loader.cc:49] Successfully opened dynamic library libcudart.so.11.0\n",
      "2021-12-28 13:24:00.608665: I tensorflow/core/common_runtime/gpu/gpu_device.cc:1261] Device interconnect StreamExecutor with strength 1 edge matrix:\n",
      "2021-12-28 13:24:00.608699: I tensorflow/core/common_runtime/gpu/gpu_device.cc:1267]      0 \n",
      "2021-12-28 13:24:00.608707: I tensorflow/core/common_runtime/gpu/gpu_device.cc:1280] 0:   N \n",
      "2021-12-28 13:24:00.617199: I tensorflow/core/common_runtime/gpu/gpu_device.cc:1406] Created TensorFlow device (/device:GPU:0 with 10619 MB memory) -> physical GPU (device: 0, name: Tesla K80, pci bus id: 0000:84:00.0, compute capability: 3.7)\n"
     ]
    }
   ],
   "source": [
    "device_name = tf.test.gpu_device_name()\n",
    "if device_name != '/device:GPU:0':\n",
    "    raise SystemError('GPU device not found')\n",
    "print('Found GPU at: {}'.format(device_name))"
   ]
  },
  {
   "cell_type": "markdown",
   "metadata": {},
   "source": [
    "### Grab environment variables"
   ]
  },
  {
   "cell_type": "code",
   "execution_count": 3,
   "metadata": {},
   "outputs": [],
   "source": [
    "totalarrays=int(os.getenv('arraymaxbk'))\n",
    "currentarray=int(os.getenv('arraycurrentbk'))\n",
    "filenameset=str(os.getenv('filenameset'))\n",
    "suffixset=str(os.getenv('suffixset'))\n",
    "rootset=str(os.getenv('rootset'))\n",
    "datagroupset=str(os.getenv('datagroupset'))"
   ]
  },
  {
   "cell_type": "code",
   "execution_count": 3,
   "metadata": {},
   "outputs": [],
   "source": [
    "#totalarrays=160\n",
    "#currentarray=1\n",
    "#filenameset=\"03_test_texts_sentence_21-12-20.dta\"\n",
    "#suffixset=\"21-12-20\"\n",
    "#rootset=\"/project/commonappteacherrec/teacher_rec_full_replication/data/build\"\n",
    "#datagroupset=\"test\""
   ]
  },
  {
   "cell_type": "markdown",
   "metadata": {
    "id": "nmJJkov_f4s_"
   },
   "source": [
    "### Load in and organize the teacher recommendation text data"
   ]
  },
  {
   "cell_type": "code",
   "execution_count": 4,
   "metadata": {},
   "outputs": [],
   "source": [
    "filename = rootset + \"/\" + filenameset"
   ]
  },
  {
   "cell_type": "code",
   "execution_count": 5,
   "metadata": {
    "colab": {
     "base_uri": "https://localhost:8080/"
    },
    "executionInfo": {
     "elapsed": 532,
     "status": "ok",
     "timestamp": 1617290498341,
     "user": {
      "displayName": "Brian Kim",
      "photoUrl": "https://lh3.googleusercontent.com/a-/AOh14GheK6fjKCJnJKGaH7uYzy5meG555MjbR-ZMdGLarA=s64",
      "userId": "17231552563920409361"
     },
     "user_tz": 240
    },
    "id": "Ja9yZsH4RK5o",
    "outputId": "b94f115c-f643-4b1b-b497-8f06cbdf91f7"
   },
   "outputs": [
    {
     "data": {
      "text/plain": [
       "(49792681, 3)"
      ]
     },
     "execution_count": 5,
     "metadata": {},
     "output_type": "execute_result"
    }
   ],
   "source": [
    "teacherrec = pd.read_stata(filename)\n",
    "teacherrec[\"index\"]=teacherrec.index\n",
    "teacherrec.shape"
   ]
  },
  {
   "cell_type": "markdown",
   "metadata": {},
   "source": [
    "### Subset data into partitions for array job"
   ]
  },
  {
   "cell_type": "code",
   "execution_count": 6,
   "metadata": {},
   "outputs": [],
   "source": [
    "datalength = len(teacherrec.index)"
   ]
  },
  {
   "cell_type": "code",
   "execution_count": 7,
   "metadata": {},
   "outputs": [
    {
     "data": {
      "text/plain": [
       "311204"
      ]
     },
     "execution_count": 7,
     "metadata": {},
     "output_type": "execute_result"
    }
   ],
   "source": [
    "#partitionsize = np.ceil(len(teacherrec.index)/totalarrays).astype(np.int64)\n",
    "partitionsize = round(datalength/totalarrays)\n",
    "partitionsize"
   ]
  },
  {
   "cell_type": "code",
   "execution_count": 8,
   "metadata": {},
   "outputs": [
    {
     "data": {
      "text/plain": [
       "0"
      ]
     },
     "execution_count": 8,
     "metadata": {},
     "output_type": "execute_result"
    }
   ],
   "source": [
    "bottombound = (partitionsize * (currentarray-1))\n",
    "bottombound"
   ]
  },
  {
   "cell_type": "code",
   "execution_count": 9,
   "metadata": {},
   "outputs": [
    {
     "data": {
      "text/plain": [
       "311204"
      ]
     },
     "execution_count": 9,
     "metadata": {},
     "output_type": "execute_result"
    }
   ],
   "source": [
    "if currentarray==totalarrays:\n",
    "    topbound = datalength\n",
    "else:\n",
    "    topbound = (partitionsize * currentarray)\n",
    "topbound"
   ]
  },
  {
   "cell_type": "code",
   "execution_count": 10,
   "metadata": {},
   "outputs": [],
   "source": [
    "subset = teacherrec[bottombound:topbound]\n",
    "#subset = teacherrec[1:100]"
   ]
  },
  {
   "cell_type": "code",
   "execution_count": 12,
   "metadata": {},
   "outputs": [],
   "source": [
    "del teacherrec"
   ]
  },
  {
   "cell_type": "markdown",
   "metadata": {
    "id": "Dc08_JPJC9vi"
   },
   "source": [
    "# Begin creating NLP sentiment analysis pipeline"
   ]
  },
  {
   "cell_type": "markdown",
   "metadata": {
    "id": "g8PJXSYYM8E0"
   },
   "source": [
    "### Define various sentiment analysis models"
   ]
  },
  {
   "cell_type": "code",
   "execution_count": 5,
   "metadata": {
    "id": "i5rUbkY9-act"
   },
   "outputs": [
    {
     "data": {
      "application/vnd.jupyter.widget-view+json": {
       "model_id": "7923d7d6c8c6471a8f90afc5f8dae9ad",
       "version_major": 2,
       "version_minor": 0
      },
      "text/plain": [
       "Downloading:   0%|          | 0.00/748 [00:00<?, ?B/s]"
      ]
     },
     "metadata": {},
     "output_type": "display_data"
    },
    {
     "data": {
      "application/vnd.jupyter.widget-view+json": {
       "model_id": "9300dae9c55b44c2be81bbddb25696c1",
       "version_major": 2,
       "version_minor": 0
      },
      "text/plain": [
       "Downloading:   0%|          | 0.00/433M [00:00<?, ?B/s]"
      ]
     },
     "metadata": {},
     "output_type": "display_data"
    },
    {
     "data": {
      "application/vnd.jupyter.widget-view+json": {
       "model_id": "1ae22e18bf094dada5b373e2547e8da3",
       "version_major": 2,
       "version_minor": 0
      },
      "text/plain": [
       "Downloading:   0%|          | 0.00/49.0 [00:00<?, ?B/s]"
      ]
     },
     "metadata": {},
     "output_type": "display_data"
    },
    {
     "data": {
      "application/vnd.jupyter.widget-view+json": {
       "model_id": "95013b9542784ce2a621dc1e175f27f3",
       "version_major": 2,
       "version_minor": 0
      },
      "text/plain": [
       "Downloading:   0%|          | 0.00/213k [00:00<?, ?B/s]"
      ]
     },
     "metadata": {},
     "output_type": "display_data"
    },
    {
     "data": {
      "application/vnd.jupyter.widget-view+json": {
       "model_id": "827e6fca116b4561b3ca5d5f361f8c52",
       "version_major": 2,
       "version_minor": 0
      },
      "text/plain": [
       "Downloading:   0%|          | 0.00/112 [00:00<?, ?B/s]"
      ]
     },
     "metadata": {},
     "output_type": "display_data"
    }
   ],
   "source": [
    "# https://huggingface.co/gilf/english-yelp-sentiment\n",
    "yelp_all = pipeline(task=\"sentiment-analysis\", model = AutoModelForSequenceClassification.from_pretrained(\"gilf/english-yelp-sentiment\", revision=\"5dede457b5f58f45edcd71ccfe10953371c630ef\"), tokenizer = AutoTokenizer.from_pretrained(\"gilf/english-yelp-sentiment\", revision=\"5dede457b5f58f45edcd71ccfe10953371c630ef\"), device = 0, return_all_scores=True)"
   ]
  },
  {
   "cell_type": "code",
   "execution_count": 6,
   "metadata": {
    "id": "duxlk-V7M7gu"
   },
   "outputs": [
    {
     "data": {
      "application/vnd.jupyter.widget-view+json": {
       "model_id": "4d922b82fbf04133a64f1551c06d3a3c",
       "version_major": 2,
       "version_minor": 0
      },
      "text/plain": [
       "Downloading:   0%|          | 0.00/953 [00:00<?, ?B/s]"
      ]
     },
     "metadata": {},
     "output_type": "display_data"
    },
    {
     "data": {
      "application/vnd.jupyter.widget-view+json": {
       "model_id": "b39481c93ebc435b81f93781e68f50e9",
       "version_major": 2,
       "version_minor": 0
      },
      "text/plain": [
       "Downloading:   0%|          | 0.00/669M [00:00<?, ?B/s]"
      ]
     },
     "metadata": {},
     "output_type": "display_data"
    },
    {
     "data": {
      "application/vnd.jupyter.widget-view+json": {
       "model_id": "5a7aa26c88ba4329a6c4dd47d73f3737",
       "version_major": 2,
       "version_minor": 0
      },
      "text/plain": [
       "Downloading:   0%|          | 0.00/39.0 [00:00<?, ?B/s]"
      ]
     },
     "metadata": {},
     "output_type": "display_data"
    },
    {
     "data": {
      "application/vnd.jupyter.widget-view+json": {
       "model_id": "cddd9baab45b413488f8153c585ed7f3",
       "version_major": 2,
       "version_minor": 0
      },
      "text/plain": [
       "Downloading:   0%|          | 0.00/872k [00:00<?, ?B/s]"
      ]
     },
     "metadata": {},
     "output_type": "display_data"
    },
    {
     "data": {
      "application/vnd.jupyter.widget-view+json": {
       "model_id": "2fbc52a4bbfe40ed9dd904e740341fcf",
       "version_major": 2,
       "version_minor": 0
      },
      "text/plain": [
       "Downloading:   0%|          | 0.00/112 [00:00<?, ?B/s]"
      ]
     },
     "metadata": {},
     "output_type": "display_data"
    }
   ],
   "source": [
    "# https://huggingface.co/nlptown/bert-base-multilingual-uncased-sentiment\n",
    "bert_all = pipeline(task=\"sentiment-analysis\", model = AutoModelForSequenceClassification.from_pretrained(\"nlptown/bert-base-multilingual-uncased-sentiment\", revision=\"f4067398d9230016de89fc62c43e4ba42c349c72\"), tokenizer = AutoTokenizer.from_pretrained(\"nlptown/bert-base-multilingual-uncased-sentiment\", revision=\"f4067398d9230016de89fc62c43e4ba42c349c72\"), device = 0, return_all_scores=True)"
   ]
  },
  {
   "cell_type": "code",
   "execution_count": 7,
   "metadata": {
    "id": "poDFtdOBQR6m"
   },
   "outputs": [
    {
     "data": {
      "application/vnd.jupyter.widget-view+json": {
       "model_id": "d4c4bd80b56d44e1824c16fb359ddf18",
       "version_major": 2,
       "version_minor": 0
      },
      "text/plain": [
       "Downloading:   0%|          | 0.00/747 [00:00<?, ?B/s]"
      ]
     },
     "metadata": {},
     "output_type": "display_data"
    },
    {
     "data": {
      "application/vnd.jupyter.widget-view+json": {
       "model_id": "e4e5679112be47598328e713e1eaba16",
       "version_major": 2,
       "version_minor": 0
      },
      "text/plain": [
       "Downloading:   0%|          | 0.00/499M [00:00<?, ?B/s]"
      ]
     },
     "metadata": {},
     "output_type": "display_data"
    },
    {
     "data": {
      "application/vnd.jupyter.widget-view+json": {
       "model_id": "6469a08c6d2947dda253ea64254aa1e8",
       "version_major": 2,
       "version_minor": 0
      },
      "text/plain": [
       "Downloading:   0%|          | 0.00/899k [00:00<?, ?B/s]"
      ]
     },
     "metadata": {},
     "output_type": "display_data"
    },
    {
     "data": {
      "application/vnd.jupyter.widget-view+json": {
       "model_id": "d232b204ad454eeb86b27dc64e646158",
       "version_major": 2,
       "version_minor": 0
      },
      "text/plain": [
       "Downloading:   0%|          | 0.00/456k [00:00<?, ?B/s]"
      ]
     },
     "metadata": {},
     "output_type": "display_data"
    },
    {
     "data": {
      "application/vnd.jupyter.widget-view+json": {
       "model_id": "2bc4cec792bd4c00bbe918c1123944c3",
       "version_major": 2,
       "version_minor": 0
      },
      "text/plain": [
       "Downloading:   0%|          | 0.00/150 [00:00<?, ?B/s]"
      ]
     },
     "metadata": {},
     "output_type": "display_data"
    }
   ],
   "source": [
    "# https://huggingface.co/cardiffnlp/twitter-roberta-base-sentiment\n",
    "twit_all = pipeline(task=\"sentiment-analysis\", model = AutoModelForSequenceClassification.from_pretrained(\"cardiffnlp/twitter-roberta-base-sentiment\", revision=\"c8c5458081108134d5b2e5fc2ab4215b677ed0b4\"), tokenizer = AutoTokenizer.from_pretrained(\"cardiffnlp/twitter-roberta-base-sentiment\", revision=\"c8c5458081108134d5b2e5fc2ab4215b677ed0b4\"), device = 0, return_all_scores=True)"
   ]
  },
  {
   "cell_type": "code",
   "execution_count": 8,
   "metadata": {
    "id": "s3w9HFjEKTfc"
   },
   "outputs": [
    {
     "data": {
      "application/vnd.jupyter.widget-view+json": {
       "model_id": "aaaea7c44ca54bc194cfb701a0da536e",
       "version_major": 2,
       "version_minor": 0
      },
      "text/plain": [
       "Downloading:   0%|          | 0.00/805 [00:00<?, ?B/s]"
      ]
     },
     "metadata": {},
     "output_type": "display_data"
    },
    {
     "data": {
      "application/vnd.jupyter.widget-view+json": {
       "model_id": "b360f8e1c5054d919fe5a03999705056",
       "version_major": 2,
       "version_minor": 0
      },
      "text/plain": [
       "Downloading:   0%|          | 0.00/469M [00:00<?, ?B/s]"
      ]
     },
     "metadata": {},
     "output_type": "display_data"
    },
    {
     "data": {
      "application/vnd.jupyter.widget-view+json": {
       "model_id": "ed894a46e28d417b96e90c27b00c1232",
       "version_major": 2,
       "version_minor": 0
      },
      "text/plain": [
       "Downloading:   0%|          | 0.00/2.00 [00:00<?, ?B/s]"
      ]
     },
     "metadata": {},
     "output_type": "display_data"
    },
    {
     "data": {
      "application/vnd.jupyter.widget-view+json": {
       "model_id": "cb1f4f7075d44ec4b2feed07aefae200",
       "version_major": 2,
       "version_minor": 0
      },
      "text/plain": [
       "Downloading:   0%|          | 0.00/798k [00:00<?, ?B/s]"
      ]
     },
     "metadata": {},
     "output_type": "display_data"
    },
    {
     "data": {
      "application/vnd.jupyter.widget-view+json": {
       "model_id": "a5949f208c564b709fc801f7885173fb",
       "version_major": 2,
       "version_minor": 0
      },
      "text/plain": [
       "Downloading:   0%|          | 0.00/202 [00:00<?, ?B/s]"
      ]
     },
     "metadata": {},
     "output_type": "display_data"
    }
   ],
   "source": [
    "# https://huggingface.co/textattack/xlnet-large-cased-SST-2\n",
    "xlnet_all = pipeline(task=\"sentiment-analysis\", model = AutoModelForSequenceClassification.from_pretrained(\"textattack/xlnet-base-cased-SST-2\", revision=\"9ceeb077dcd5cf5ae790572b2bd6aec755a263be\"), tokenizer = AutoTokenizer.from_pretrained(\"textattack/xlnet-base-cased-SST-2\", revision=\"9ceeb077dcd5cf5ae790572b2bd6aec755a263be\"), device = 0, return_all_scores=True)"
   ]
  },
  {
   "cell_type": "code",
   "execution_count": 9,
   "metadata": {
    "id": "Yf9VxWNvS3RU"
   },
   "outputs": [
    {
     "data": {
      "application/vnd.jupyter.widget-view+json": {
       "model_id": "66a3637e609643009832e791bc71562f",
       "version_major": 2,
       "version_minor": 0
      },
      "text/plain": [
       "Downloading:   0%|          | 0.00/1.21k [00:00<?, ?B/s]"
      ]
     },
     "metadata": {},
     "output_type": "display_data"
    },
    {
     "data": {
      "application/vnd.jupyter.widget-view+json": {
       "model_id": "42f89da95d904e72a053565a0b3cb85c",
       "version_major": 2,
       "version_minor": 0
      },
      "text/plain": [
       "Downloading:   0%|          | 0.00/892M [00:00<?, ?B/s]"
      ]
     },
     "metadata": {},
     "output_type": "display_data"
    },
    {
     "data": {
      "application/vnd.jupyter.widget-view+json": {
       "model_id": "b5bcb9cee9c545be9838de169fdd0752",
       "version_major": 2,
       "version_minor": 0
      },
      "text/plain": [
       "Downloading:   0%|          | 0.00/25.0 [00:00<?, ?B/s]"
      ]
     },
     "metadata": {},
     "output_type": "display_data"
    },
    {
     "data": {
      "application/vnd.jupyter.widget-view+json": {
       "model_id": "43e78bb183cb4039899da4362bcc7734",
       "version_major": 2,
       "version_minor": 0
      },
      "text/plain": [
       "Downloading:   0%|          | 0.00/792k [00:00<?, ?B/s]"
      ]
     },
     "metadata": {},
     "output_type": "display_data"
    },
    {
     "data": {
      "application/vnd.jupyter.widget-view+json": {
       "model_id": "e057af58bb6c43d6826ebe66cf824746",
       "version_major": 2,
       "version_minor": 0
      },
      "text/plain": [
       "Downloading:   0%|          | 0.00/1.79k [00:00<?, ?B/s]"
      ]
     },
     "metadata": {},
     "output_type": "display_data"
    }
   ],
   "source": [
    "# https://huggingface.co/mrm8488/t5-base-finetuned-imdb-sentiment\n",
    "imdb_all = pipeline(task=\"text2text-generation\", model = AutoModelForSeq2SeqLM.from_pretrained(\"mrm8488/t5-base-finetuned-imdb-sentiment\", revision=\"d9d412418ff1a359b7783eeebd5b318791f00765\"), tokenizer = AutoTokenizer.from_pretrained(\"mrm8488/t5-base-finetuned-imdb-sentiment\", revision=\"d9d412418ff1a359b7783eeebd5b318791f00765\"), device = 0)"
   ]
  },
  {
   "cell_type": "code",
   "execution_count": 10,
   "metadata": {
    "id": "bipDPf1EKTFl"
   },
   "outputs": [
    {
     "data": {
      "application/vnd.jupyter.widget-view+json": {
       "model_id": "54ece88161ca4d8785a513b699c3e51c",
       "version_major": 2,
       "version_minor": 0
      },
      "text/plain": [
       "Downloading:   0%|          | 0.00/732 [00:00<?, ?B/s]"
      ]
     },
     "metadata": {},
     "output_type": "display_data"
    },
    {
     "data": {
      "application/vnd.jupyter.widget-view+json": {
       "model_id": "75cc3ad55bf146798dbce8a5d9dbe45e",
       "version_major": 2,
       "version_minor": 0
      },
      "text/plain": [
       "Downloading:   0%|          | 0.00/46.7M [00:00<?, ?B/s]"
      ]
     },
     "metadata": {},
     "output_type": "display_data"
    },
    {
     "data": {
      "application/vnd.jupyter.widget-view+json": {
       "model_id": "3ef03a4a522d44dd9b745614139c1fec",
       "version_major": 2,
       "version_minor": 0
      },
      "text/plain": [
       "Downloading:   0%|          | 0.00/25.0 [00:00<?, ?B/s]"
      ]
     },
     "metadata": {},
     "output_type": "display_data"
    },
    {
     "data": {
      "application/vnd.jupyter.widget-view+json": {
       "model_id": "686310fe6b2447da90508a05ed958a63",
       "version_major": 2,
       "version_minor": 0
      },
      "text/plain": [
       "Downloading:   0%|          | 0.00/760k [00:00<?, ?B/s]"
      ]
     },
     "metadata": {},
     "output_type": "display_data"
    },
    {
     "data": {
      "application/vnd.jupyter.widget-view+json": {
       "model_id": "066f8dc88fb7425c8e7ba1d8c1f16b1a",
       "version_major": 2,
       "version_minor": 0
      },
      "text/plain": [
       "Downloading:   0%|          | 0.00/156 [00:00<?, ?B/s]"
      ]
     },
     "metadata": {},
     "output_type": "display_data"
    }
   ],
   "source": [
    "# https://huggingface.co/textattack/albert-base-v2-SST-2\n",
    "albert_all = pipeline(task=\"sentiment-analysis\", model = AutoModelForSequenceClassification.from_pretrained(\"textattack/albert-base-v2-SST-2\", revision=\"96d7dedb92b3679c4f1ae69e7e77440d058d8602\"), tokenizer = AutoTokenizer.from_pretrained(\"textattack/albert-base-v2-SST-2\", use_fast=False, revision=\"96d7dedb92b3679c4f1ae69e7e77440d058d8602\"), device = 0, return_all_scores=True)"
   ]
  },
  {
   "cell_type": "code",
   "execution_count": 12,
   "metadata": {
    "colab": {
     "base_uri": "https://localhost:8080/"
    },
    "executionInfo": {
     "elapsed": 46668,
     "status": "ok",
     "timestamp": 1617289255463,
     "user": {
      "displayName": "Brian Kim",
      "photoUrl": "https://lh3.googleusercontent.com/a-/AOh14GheK6fjKCJnJKGaH7uYzy5meG555MjbR-ZMdGLarA=s64",
      "userId": "17231552563920409361"
     },
     "user_tz": 240
    },
    "id": "fvi9LllTWATZ",
    "outputId": "8ef1240e-9175-4ac9-90b3-59592b29d601"
   },
   "outputs": [
    {
     "name": "stderr",
     "output_type": "stream",
     "text": [
      "2021-09-29 09:58:05 INFO: Loading these models for language: en (English):\n",
      "========================\n",
      "| Processor | Package  |\n",
      "------------------------\n",
      "| tokenize  | combined |\n",
      "| sentiment | sstplus  |\n",
      "========================\n",
      "\n",
      "2021-09-29 09:58:05 INFO: Use device: gpu\n",
      "2021-09-29 09:58:05 INFO: Loading: tokenize\n",
      "2021-09-29 09:58:05 INFO: Loading: sentiment\n",
      "2021-09-29 09:58:05 INFO: Done loading processors!\n"
     ]
    }
   ],
   "source": [
    "stanza_top = stanza.Pipeline(lang='en', processors='tokenize,sentiment')"
   ]
  },
  {
   "cell_type": "markdown",
   "metadata": {
    "id": "9zxMGwutbcNY"
   },
   "source": [
    "### Define pipeline for running sentiment analysis and charting output"
   ]
  },
  {
   "cell_type": "code",
   "execution_count": 13,
   "metadata": {
    "id": "0p02ZeFxJCJO"
   },
   "outputs": [],
   "source": [
    "# Function to run the sentiment analysis algorithm on a specific string of text\n",
    "# and input the results into a tidy series\n",
    "#\n",
    "# ARGS:\n",
    "# text - String of text to be analyzed\n",
    "# model - one of \"yelp\", \"bert\", \"twit\", \"xlnet\", \"albert\", or \"stanza\"\n",
    "\n",
    "def save_sentiment(text, model):\n",
    "    # Run analyses and save results\n",
    "    if model==\"yelp\":\n",
    "        temp_all = yelp_all(text)\n",
    "\n",
    "        # Output results into a dataframe\n",
    "        d = pd.Series({'LABEL_0':temp_all[0][0][\"score\"], 'LABEL_1': temp_all[0][1][\"score\"], 'LABEL_2': temp_all[0][2][\"score\"], 'LABEL_3': temp_all[0][3][\"score\"], 'LABEL_4': temp_all[0][4][\"score\"]})\n",
    "        d2 = pd.Series({'label_predict': d.idxmax(), 'label_prob': d.max()})\n",
    "        d = d.append(d2)\n",
    "    \n",
    "    elif model==\"bert\":\n",
    "        temp_all = bert_all(text)\n",
    "\n",
    "        # Output results into a dataframe\n",
    "        d = pd.Series({'LABEL_0':temp_all[0][0][\"score\"], 'LABEL_1': temp_all[0][1][\"score\"], 'LABEL_2': temp_all[0][2][\"score\"], 'LABEL_3': temp_all[0][3][\"score\"], 'LABEL_4': temp_all[0][4][\"score\"]})\n",
    "        d2 = pd.Series({'label_predict': d.idxmax(), 'label_prob': d.max()})\n",
    "        d = d.append(d2)\n",
    "\n",
    "    elif model==\"twit\":\n",
    "        temp_all = twit_all(text)\n",
    "\n",
    "        # Output results into a dataframe\n",
    "        d = pd.Series({'LABEL_0':temp_all[0][0][\"score\"], 'LABEL_2': temp_all[0][1][\"score\"], 'LABEL_4': temp_all[0][2][\"score\"]})\n",
    "        d2 = pd.Series({'label_predict': d.idxmax(), 'label_prob': d.max()})\n",
    "        d = d.append(d2)\n",
    "\n",
    "    elif model==\"xlnet\":\n",
    "        temp_all = xlnet_all(text)\n",
    "\n",
    "        # Output results into a dataframe\n",
    "        d = pd.Series({'LABEL_0':temp_all[0][0][\"score\"], 'LABEL_4': temp_all[0][1][\"score\"]})\n",
    "        d2 = pd.Series({'label_predict': d.idxmax(), 'label_prob': d.max()})\n",
    "        d = d.append(d2)\n",
    "\n",
    "    elif model==\"imdb\":\n",
    "        temp_all = imdb_all(text)\n",
    "\n",
    "        # Output results into a dataframe\n",
    "        if temp_all[0][\"generated_text\"]==\"negative\":\n",
    "            d = pd.Series({'label_predict': \"LABEL_0\"})\n",
    "        elif temp_all[0][\"generated_text\"]==\"positive\":\n",
    "            d = pd.Series({'label_predict': \"LABEL_4\"})\n",
    "        else:\n",
    "            d = pd.Series({'label_predict': \"LABEL_2\"})\n",
    "\n",
    "    elif model==\"albert\":\n",
    "        temp_all = albert_all(text)\n",
    "\n",
    "        # Output results into a dataframe\n",
    "        d = pd.Series({'LABEL_0':temp_all[0][0][\"score\"], 'LABEL_4': temp_all[0][1][\"score\"]})\n",
    "        d2 = pd.Series({'label_predict': d.idxmax(), 'label_prob': d.max()})\n",
    "        d = d.append(d2)\n",
    "    \n",
    "    elif model==\"stanza\":\n",
    "        temp = stanza_top(text)\n",
    "        for i, sentence in enumerate(temp.sentences):\n",
    "            if sentence.sentiment==0:\n",
    "                d = pd.Series({'label_predict': \"LABEL_0\"})\n",
    "            elif sentence.sentiment==1:\n",
    "                d = pd.Series({'label_predict': \"LABEL_2\"})\n",
    "            elif sentence.sentiment==2:\n",
    "                d = pd.Series({'label_predict': \"LABEL_4\"})\n",
    "\n",
    "    # Print it\n",
    "    return d\n",
    "  "
   ]
  },
  {
   "cell_type": "code",
   "execution_count": 14,
   "metadata": {},
   "outputs": [],
   "source": [
    "def get_sentiment(dataset, text_column, model):\n",
    "    start_time = time.time()\n",
    "\n",
    "    temp = dataset[text_column].apply(save_sentiment, model=model)\n",
    "    print(\"--- %s seconds ---\" % (time.time() - start_time))\n",
    "    temp = pd.concat([dataset, temp], axis=1)\n",
    "    return temp"
   ]
  },
  {
   "cell_type": "code",
   "execution_count": 15,
   "metadata": {
    "id": "o4wylvyfRAxI"
   },
   "outputs": [],
   "source": [
    "# Function to quickly and visually display the accuracy metrics of the sentiment\n",
    "# analysis algorithm in a confusion matrix and standard measures\n",
    "#\n",
    "# ARGS:\n",
    "# truevals - Dataframe column of true values\n",
    "# predictvals - Dataframe column of predicted values\n",
    "\n",
    "def prediction_test(truevals, predictvals):\n",
    "    sns.set(font_scale=1.2, rc={'figure.figsize':(11.7,8.27)})\n",
    "    cm = confusion_matrix(truevals, predictvals)\n",
    "    ax = plt.subplot()\n",
    "    sns.heatmap(cm, annot=True, ax = ax, cmap='Greens', fmt='g')\n",
    "    ax.set_xlabel('Predicted labels');ax.set_ylabel('True labels')\n",
    "    ax.set_title('Confusion Matrix')\n",
    "\n",
    "    print(classification_report(truevals, predictvals))"
   ]
  },
  {
   "cell_type": "markdown",
   "metadata": {
    "id": "Hi21p9V3RIru"
   },
   "source": [
    "# Apply to the teacher recommendation dataset"
   ]
  },
  {
   "cell_type": "markdown",
   "metadata": {
    "id": "e8gYEEsQf9no"
   },
   "source": [
    "### Apply the Sentiment Analysis algorithms to masked N2FL text data"
   ]
  },
  {
   "cell_type": "code",
   "execution_count": 16,
   "metadata": {
    "colab": {
     "base_uri": "https://localhost:8080/"
    },
    "executionInfo": {
     "elapsed": 899330,
     "status": "ok",
     "timestamp": 1617293376075,
     "user": {
      "displayName": "Brian Kim",
      "photoUrl": "https://lh3.googleusercontent.com/a-/AOh14GheK6fjKCJnJKGaH7uYzy5meG555MjbR-ZMdGLarA=s64",
      "userId": "17231552563920409361"
     },
     "user_tz": 240
    },
    "id": "-01Q4xmDemLO",
    "outputId": "ab188619-cf01-4395-d855-3a008ce9b4a4"
   },
   "outputs": [
    {
     "name": "stdout",
     "output_type": "stream",
     "text": [
      "--- 0.7965748310089111 seconds ---\n"
     ]
    }
   ],
   "source": [
    "teacherrec_yelp = get_sentiment(subset, \"sentence_text\", \"yelp\").add_suffix(\"_yelp\")"
   ]
  },
  {
   "cell_type": "code",
   "execution_count": 17,
   "metadata": {
    "colab": {
     "base_uri": "https://localhost:8080/"
    },
    "executionInfo": {
     "elapsed": 1938835,
     "status": "ok",
     "timestamp": 1617294416331,
     "user": {
      "displayName": "Brian Kim",
      "photoUrl": "https://lh3.googleusercontent.com/a-/AOh14GheK6fjKCJnJKGaH7uYzy5meG555MjbR-ZMdGLarA=s64",
      "userId": "17231552563920409361"
     },
     "user_tz": 240
    },
    "id": "3x9BjgEuT8IU",
    "outputId": "4b00ca68-cb33-4f6b-dd5f-2c838b30896d"
   },
   "outputs": [
    {
     "name": "stdout",
     "output_type": "stream",
     "text": [
      "--- 0.9753954410552979 seconds ---\n"
     ]
    }
   ],
   "source": [
    "teacherrec_albert = get_sentiment(subset, \"sentence_text\", \"albert\").add_suffix(\"_albert\")"
   ]
  },
  {
   "cell_type": "code",
   "execution_count": 18,
   "metadata": {
    "colab": {
     "base_uri": "https://localhost:8080/"
    },
    "executionInfo": {
     "elapsed": 3118846,
     "status": "ok",
     "timestamp": 1617295596980,
     "user": {
      "displayName": "Brian Kim",
      "photoUrl": "https://lh3.googleusercontent.com/a-/AOh14GheK6fjKCJnJKGaH7uYzy5meG555MjbR-ZMdGLarA=s64",
      "userId": "17231552563920409361"
     },
     "user_tz": 240
    },
    "id": "AgXcYftzT8Sb",
    "outputId": "d251ec7f-beee-4cf4-9c7c-3d852396aca7"
   },
   "outputs": [
    {
     "name": "stdout",
     "output_type": "stream",
     "text": [
      "--- 1.2450222969055176 seconds ---\n"
     ]
    }
   ],
   "source": [
    "teacherrec_xlnet = get_sentiment(subset, \"sentence_text\", \"xlnet\").add_suffix(\"_xlnet\")"
   ]
  },
  {
   "cell_type": "code",
   "execution_count": 19,
   "metadata": {
    "id": "_Ldx3dxKUxsX"
   },
   "outputs": [],
   "source": [
    "# Minor cleaning steps because Stanza can't take empty rows\n",
    "stanza_prep = subset.copy()\n",
    "stanza_prep[\"str_len\"] = stanza_prep[\"sentence_text\"].str.len()\n",
    "stanza_prep = stanza_prep[stanza_prep['str_len'] >= 1].drop(columns=[\"str_len\"])"
   ]
  },
  {
   "cell_type": "code",
   "execution_count": 20,
   "metadata": {
    "colab": {
     "base_uri": "https://localhost:8080/"
    },
    "executionInfo": {
     "elapsed": 3501089,
     "status": "ok",
     "timestamp": 1617295981379,
     "user": {
      "displayName": "Brian Kim",
      "photoUrl": "https://lh3.googleusercontent.com/a-/AOh14GheK6fjKCJnJKGaH7uYzy5meG555MjbR-ZMdGLarA=s64",
      "userId": "17231552563920409361"
     },
     "user_tz": 240
    },
    "id": "A3hkUhPUT8aJ",
    "outputId": "5cb8b019-87e4-417e-be9c-d0918f2bbf91"
   },
   "outputs": [
    {
     "name": "stdout",
     "output_type": "stream",
     "text": [
      "--- 0.7307009696960449 seconds ---\n"
     ]
    }
   ],
   "source": [
    "teacherrec_stanza = get_sentiment(stanza_prep, \"sentence_text\", \"stanza\").add_suffix(\"_stanza\")"
   ]
  },
  {
   "cell_type": "code",
   "execution_count": 21,
   "metadata": {
    "colab": {
     "base_uri": "https://localhost:8080/"
    },
    "executionInfo": {
     "elapsed": 4395224,
     "status": "ok",
     "timestamp": 1617296876549,
     "user": {
      "displayName": "Brian Kim",
      "photoUrl": "https://lh3.googleusercontent.com/a-/AOh14GheK6fjKCJnJKGaH7uYzy5meG555MjbR-ZMdGLarA=s64",
      "userId": "17231552563920409361"
     },
     "user_tz": 240
    },
    "id": "FO47DRPQ9OPW",
    "outputId": "b7757d23-acb8-42b7-ccdd-9b9eb65a2531"
   },
   "outputs": [
    {
     "name": "stdout",
     "output_type": "stream",
     "text": [
      "--- 0.7857115268707275 seconds ---\n"
     ]
    }
   ],
   "source": [
    "teacherrec_bert = get_sentiment(subset, \"sentence_text\", \"bert\").add_suffix(\"_bert\")"
   ]
  },
  {
   "cell_type": "code",
   "execution_count": 22,
   "metadata": {
    "colab": {
     "base_uri": "https://localhost:8080/"
    },
    "executionInfo": {
     "elapsed": 5288693,
     "status": "ok",
     "timestamp": 1617297770755,
     "user": {
      "displayName": "Brian Kim",
      "photoUrl": "https://lh3.googleusercontent.com/a-/AOh14GheK6fjKCJnJKGaH7uYzy5meG555MjbR-ZMdGLarA=s64",
      "userId": "17231552563920409361"
     },
     "user_tz": 240
    },
    "id": "oABZdBh69ORx",
    "outputId": "f994cf1a-f01a-4c8c-89a8-37fa7b7d96d6"
   },
   "outputs": [
    {
     "name": "stdout",
     "output_type": "stream",
     "text": [
      "--- 0.8151977062225342 seconds ---\n"
     ]
    }
   ],
   "source": [
    "teacherrec_twit = get_sentiment(subset, \"sentence_text\", \"twit\").add_suffix(\"_twit\")"
   ]
  },
  {
   "cell_type": "code",
   "execution_count": 23,
   "metadata": {
    "id": "ejSKUl8cAgjy"
   },
   "outputs": [],
   "source": [
    "# Minor cleaning steps because imdb can't take non-ascii characters apparently\n",
    "imdb_prep = subset.copy()\n",
    "imdb_prep[\"sentence_text\"] = imdb_prep[\"sentence_text\"].str.encode(\"ascii\", \"ignore\").str.decode(\"ascii\")"
   ]
  },
  {
   "cell_type": "code",
   "execution_count": 24,
   "metadata": {
    "colab": {
     "base_uri": "https://localhost:8080/"
    },
    "executionInfo": {
     "elapsed": 1802024,
     "status": "ok",
     "timestamp": 1617292310863,
     "user": {
      "displayName": "Brian Kim",
      "photoUrl": "https://lh3.googleusercontent.com/a-/AOh14GheK6fjKCJnJKGaH7uYzy5meG555MjbR-ZMdGLarA=s64",
      "userId": "17231552563920409361"
     },
     "user_tz": 240
    },
    "id": "bK2UywNn9OW7",
    "outputId": "ebac158f-6ead-4f9f-a986-433411a27e28"
   },
   "outputs": [
    {
     "name": "stdout",
     "output_type": "stream",
     "text": [
      "--- 2.6876425743103027 seconds ---\n"
     ]
    }
   ],
   "source": [
    "teacherrec_imdb = get_sentiment(imdb_prep, \"sentence_text\", \"imdb\").add_suffix(\"_imdb\")"
   ]
  },
  {
   "cell_type": "markdown",
   "metadata": {
    "id": "om_WHybXgCq1"
   },
   "source": [
    "### Join sentiment scores back into the main dataset"
   ]
  },
  {
   "cell_type": "code",
   "execution_count": 25,
   "metadata": {
    "id": "pdcTvgO6gOGa"
   },
   "outputs": [],
   "source": [
    "teacherrec_analyze = pd.merge(subset, teacherrec_yelp, how=\"inner\", left_on=\"index\", right_on=\"index_yelp\", validate=\"1:1\").drop(columns=[\"sentence_text_yelp\", \"index_yelp\", \"letterid_yelp\"])"
   ]
  },
  {
   "cell_type": "code",
   "execution_count": 26,
   "metadata": {
    "id": "tQtQp8nGa34Q"
   },
   "outputs": [],
   "source": [
    "teacherrec_analyze = pd.merge(teacherrec_analyze, teacherrec_xlnet, how=\"inner\", left_on=\"index\", right_on=\"index_xlnet\", validate=\"1:1\").drop(columns=[\"sentence_text_xlnet\", \"index_xlnet\", \"letterid_xlnet\"])"
   ]
  },
  {
   "cell_type": "code",
   "execution_count": 27,
   "metadata": {
    "id": "4Ry7ErBya4AW"
   },
   "outputs": [],
   "source": [
    "teacherrec_analyze = pd.merge(teacherrec_analyze, teacherrec_albert, how=\"inner\", left_on=\"index\", right_on=\"index_albert\", validate=\"1:1\").drop(columns=[\"sentence_text_albert\", \"index_albert\", \"letterid_albert\"])"
   ]
  },
  {
   "cell_type": "code",
   "execution_count": 28,
   "metadata": {
    "id": "TC7AVkdQa4GE"
   },
   "outputs": [],
   "source": [
    "teacherrec_analyze = pd.merge(teacherrec_analyze, teacherrec_stanza, how=\"inner\", left_on=\"index\", right_on=\"index_stanza\", validate=\"1:1\").drop(columns=[\"sentence_text_stanza\", \"index_stanza\", \"letterid_stanza\"])"
   ]
  },
  {
   "cell_type": "code",
   "execution_count": 29,
   "metadata": {
    "id": "G6IXi9Yj9X2_"
   },
   "outputs": [],
   "source": [
    "teacherrec_analyze = pd.merge(teacherrec_analyze, teacherrec_bert, how=\"inner\", left_on=\"index\", right_on=\"index_bert\", validate=\"1:1\").drop(columns=[\"sentence_text_bert\", \"index_bert\", \"letterid_bert\"])"
   ]
  },
  {
   "cell_type": "code",
   "execution_count": 30,
   "metadata": {
    "id": "DmJTQvYW9X5s"
   },
   "outputs": [],
   "source": [
    "teacherrec_analyze = pd.merge(teacherrec_analyze, teacherrec_twit, how=\"inner\", left_on=\"index\", right_on=\"index_twit\", validate=\"1:1\").drop(columns=[\"sentence_text_twit\", \"index_twit\", \"letterid_twit\"])"
   ]
  },
  {
   "cell_type": "code",
   "execution_count": 31,
   "metadata": {
    "id": "gsla7bVV9X9-"
   },
   "outputs": [],
   "source": [
    "teacherrec_analyze = pd.merge(teacherrec_analyze, teacherrec_imdb, how=\"inner\", left_on=\"index\", right_on=\"index_imdb\", validate=\"1:1\").drop(columns=[\"sentence_text_imdb\", \"index_imdb\", \"letterid_imdb\"])"
   ]
  },
  {
   "cell_type": "code",
   "execution_count": 32,
   "metadata": {
    "colab": {
     "base_uri": "https://localhost:8080/"
    },
    "executionInfo": {
     "elapsed": 375,
     "status": "ok",
     "timestamp": 1617298943927,
     "user": {
      "displayName": "Brian Kim",
      "photoUrl": "https://lh3.googleusercontent.com/a-/AOh14GheK6fjKCJnJKGaH7uYzy5meG555MjbR-ZMdGLarA=s64",
      "userId": "17231552563920409361"
     },
     "user_tz": 240
    },
    "id": "IdLG10av1CPC",
    "outputId": "cceda3ad-321e-4371-c910-12f0d10da555"
   },
   "outputs": [
    {
     "data": {
      "text/plain": [
       "(99, 32)"
      ]
     },
     "execution_count": 32,
     "metadata": {},
     "output_type": "execute_result"
    }
   ],
   "source": [
    "teacherrec_analyze.shape"
   ]
  },
  {
   "cell_type": "code",
   "execution_count": 33,
   "metadata": {
    "colab": {
     "base_uri": "https://localhost:8080/",
     "height": 1000
    },
    "executionInfo": {
     "elapsed": 424,
     "status": "ok",
     "timestamp": 1617298934465,
     "user": {
      "displayName": "Brian Kim",
      "photoUrl": "https://lh3.googleusercontent.com/a-/AOh14GheK6fjKCJnJKGaH7uYzy5meG555MjbR-ZMdGLarA=s64",
      "userId": "17231552563920409361"
     },
     "user_tz": 240
    },
    "id": "yEuqywx1iK6b",
    "outputId": "7285590b-93e0-482e-9953-9c54e6c92164"
   },
   "outputs": [
    {
     "data": {
      "text/html": [
       "<div>\n",
       "<style scoped>\n",
       "    .dataframe tbody tr th:only-of-type {\n",
       "        vertical-align: middle;\n",
       "    }\n",
       "\n",
       "    .dataframe tbody tr th {\n",
       "        vertical-align: top;\n",
       "    }\n",
       "\n",
       "    .dataframe thead th {\n",
       "        text-align: right;\n",
       "    }\n",
       "</style>\n",
       "<table border=\"1\" class=\"dataframe\">\n",
       "  <thead>\n",
       "    <tr style=\"text-align: right;\">\n",
       "      <th></th>\n",
       "      <th>invitationid</th>\n",
       "      <th>sentence_text</th>\n",
       "      <th>index</th>\n",
       "      <th>LABEL_0_yelp</th>\n",
       "      <th>LABEL_1_yelp</th>\n",
       "      <th>LABEL_2_yelp</th>\n",
       "      <th>LABEL_3_yelp</th>\n",
       "      <th>LABEL_4_yelp</th>\n",
       "      <th>label_predict_yelp</th>\n",
       "      <th>label_prob_yelp</th>\n",
       "      <th>...</th>\n",
       "      <th>LABEL_3_bert</th>\n",
       "      <th>LABEL_4_bert</th>\n",
       "      <th>label_predict_bert</th>\n",
       "      <th>label_prob_bert</th>\n",
       "      <th>LABEL_0_twit</th>\n",
       "      <th>LABEL_2_twit</th>\n",
       "      <th>LABEL_4_twit</th>\n",
       "      <th>label_predict_twit</th>\n",
       "      <th>label_prob_twit</th>\n",
       "      <th>label_predict_imdb</th>\n",
       "    </tr>\n",
       "  </thead>\n",
       "  <tbody>\n",
       "    <tr>\n",
       "      <th>39</th>\n",
       "      <td>4579.0</td>\n",
       "      <td>In twenty years, &lt;NAME&gt; is someone we will be ...</td>\n",
       "      <td>40</td>\n",
       "      <td>0.002651</td>\n",
       "      <td>0.002115</td>\n",
       "      <td>0.006538</td>\n",
       "      <td>0.084025</td>\n",
       "      <td>0.904671</td>\n",
       "      <td>LABEL_4</td>\n",
       "      <td>0.904671</td>\n",
       "      <td>...</td>\n",
       "      <td>0.183271</td>\n",
       "      <td>0.783906</td>\n",
       "      <td>LABEL_4</td>\n",
       "      <td>0.783906</td>\n",
       "      <td>0.001134</td>\n",
       "      <td>0.019604</td>\n",
       "      <td>0.979262</td>\n",
       "      <td>LABEL_4</td>\n",
       "      <td>0.979262</td>\n",
       "      <td>LABEL_4</td>\n",
       "    </tr>\n",
       "    <tr>\n",
       "      <th>35</th>\n",
       "      <td>4579.0</td>\n",
       "      <td>Her experiences in DECA, Speech Team, Student ...</td>\n",
       "      <td>36</td>\n",
       "      <td>0.002401</td>\n",
       "      <td>0.001140</td>\n",
       "      <td>0.002212</td>\n",
       "      <td>0.024717</td>\n",
       "      <td>0.969530</td>\n",
       "      <td>LABEL_4</td>\n",
       "      <td>0.969530</td>\n",
       "      <td>...</td>\n",
       "      <td>0.384946</td>\n",
       "      <td>0.496330</td>\n",
       "      <td>LABEL_4</td>\n",
       "      <td>0.496330</td>\n",
       "      <td>0.001699</td>\n",
       "      <td>0.256818</td>\n",
       "      <td>0.741482</td>\n",
       "      <td>LABEL_4</td>\n",
       "      <td>0.741482</td>\n",
       "      <td>LABEL_4</td>\n",
       "    </tr>\n",
       "    <tr>\n",
       "      <th>64</th>\n",
       "      <td>4598.0</td>\n",
       "      <td>&lt;NAME&gt; loves learning and education, and whate...</td>\n",
       "      <td>65</td>\n",
       "      <td>0.001397</td>\n",
       "      <td>0.001359</td>\n",
       "      <td>0.006574</td>\n",
       "      <td>0.067656</td>\n",
       "      <td>0.923014</td>\n",
       "      <td>LABEL_4</td>\n",
       "      <td>0.923014</td>\n",
       "      <td>...</td>\n",
       "      <td>0.478210</td>\n",
       "      <td>0.432613</td>\n",
       "      <td>LABEL_3</td>\n",
       "      <td>0.478210</td>\n",
       "      <td>0.004148</td>\n",
       "      <td>0.072997</td>\n",
       "      <td>0.922855</td>\n",
       "      <td>LABEL_4</td>\n",
       "      <td>0.922855</td>\n",
       "      <td>LABEL_4</td>\n",
       "    </tr>\n",
       "    <tr>\n",
       "      <th>74</th>\n",
       "      <td>4616.0</td>\n",
       "      <td>His assignments were always completed on time ...</td>\n",
       "      <td>75</td>\n",
       "      <td>0.000594</td>\n",
       "      <td>0.000898</td>\n",
       "      <td>0.009597</td>\n",
       "      <td>0.172629</td>\n",
       "      <td>0.816282</td>\n",
       "      <td>LABEL_4</td>\n",
       "      <td>0.816282</td>\n",
       "      <td>...</td>\n",
       "      <td>0.315221</td>\n",
       "      <td>0.635724</td>\n",
       "      <td>LABEL_4</td>\n",
       "      <td>0.635724</td>\n",
       "      <td>0.005954</td>\n",
       "      <td>0.143479</td>\n",
       "      <td>0.850567</td>\n",
       "      <td>LABEL_4</td>\n",
       "      <td>0.850567</td>\n",
       "      <td>LABEL_4</td>\n",
       "    </tr>\n",
       "    <tr>\n",
       "      <th>55</th>\n",
       "      <td>4598.0</td>\n",
       "      <td>For instance, one of her favorite projects was...</td>\n",
       "      <td>56</td>\n",
       "      <td>0.092135</td>\n",
       "      <td>0.219371</td>\n",
       "      <td>0.318005</td>\n",
       "      <td>0.231076</td>\n",
       "      <td>0.139413</td>\n",
       "      <td>LABEL_2</td>\n",
       "      <td>0.318005</td>\n",
       "      <td>...</td>\n",
       "      <td>0.325371</td>\n",
       "      <td>0.342058</td>\n",
       "      <td>LABEL_4</td>\n",
       "      <td>0.342058</td>\n",
       "      <td>0.001884</td>\n",
       "      <td>0.083034</td>\n",
       "      <td>0.915082</td>\n",
       "      <td>LABEL_4</td>\n",
       "      <td>0.915082</td>\n",
       "      <td>LABEL_4</td>\n",
       "    </tr>\n",
       "    <tr>\n",
       "      <th>87</th>\n",
       "      <td>4616.0</td>\n",
       "      <td>He is certainly deserving, and I cannot imagin...</td>\n",
       "      <td>88</td>\n",
       "      <td>0.001734</td>\n",
       "      <td>0.001534</td>\n",
       "      <td>0.005647</td>\n",
       "      <td>0.049097</td>\n",
       "      <td>0.941989</td>\n",
       "      <td>LABEL_4</td>\n",
       "      <td>0.941989</td>\n",
       "      <td>...</td>\n",
       "      <td>0.246759</td>\n",
       "      <td>0.711338</td>\n",
       "      <td>LABEL_4</td>\n",
       "      <td>0.711338</td>\n",
       "      <td>0.032989</td>\n",
       "      <td>0.117567</td>\n",
       "      <td>0.849443</td>\n",
       "      <td>LABEL_4</td>\n",
       "      <td>0.849443</td>\n",
       "      <td>LABEL_4</td>\n",
       "    </tr>\n",
       "    <tr>\n",
       "      <th>57</th>\n",
       "      <td>4598.0</td>\n",
       "      <td>They had to communicate the idea primarily wit...</td>\n",
       "      <td>58</td>\n",
       "      <td>0.484267</td>\n",
       "      <td>0.382999</td>\n",
       "      <td>0.121419</td>\n",
       "      <td>0.008371</td>\n",
       "      <td>0.002944</td>\n",
       "      <td>LABEL_0</td>\n",
       "      <td>0.484267</td>\n",
       "      <td>...</td>\n",
       "      <td>0.067000</td>\n",
       "      <td>0.012075</td>\n",
       "      <td>LABEL_1</td>\n",
       "      <td>0.418410</td>\n",
       "      <td>0.111573</td>\n",
       "      <td>0.833518</td>\n",
       "      <td>0.054909</td>\n",
       "      <td>LABEL_2</td>\n",
       "      <td>0.833518</td>\n",
       "      <td>LABEL_4</td>\n",
       "    </tr>\n",
       "    <tr>\n",
       "      <th>27</th>\n",
       "      <td>4579.0</td>\n",
       "      <td>Needless to say, when she appeared on my Advan...</td>\n",
       "      <td>28</td>\n",
       "      <td>0.176622</td>\n",
       "      <td>0.160322</td>\n",
       "      <td>0.196781</td>\n",
       "      <td>0.174645</td>\n",
       "      <td>0.291630</td>\n",
       "      <td>LABEL_4</td>\n",
       "      <td>0.291630</td>\n",
       "      <td>...</td>\n",
       "      <td>0.187268</td>\n",
       "      <td>0.099072</td>\n",
       "      <td>LABEL_1</td>\n",
       "      <td>0.295806</td>\n",
       "      <td>0.003098</td>\n",
       "      <td>0.062289</td>\n",
       "      <td>0.934613</td>\n",
       "      <td>LABEL_4</td>\n",
       "      <td>0.934613</td>\n",
       "      <td>LABEL_4</td>\n",
       "    </tr>\n",
       "    <tr>\n",
       "      <th>75</th>\n",
       "      <td>4616.0</td>\n",
       "      <td>Most impressively, he has taken and passed the...</td>\n",
       "      <td>76</td>\n",
       "      <td>0.001393</td>\n",
       "      <td>0.003233</td>\n",
       "      <td>0.031720</td>\n",
       "      <td>0.271351</td>\n",
       "      <td>0.692302</td>\n",
       "      <td>LABEL_4</td>\n",
       "      <td>0.692302</td>\n",
       "      <td>...</td>\n",
       "      <td>0.248310</td>\n",
       "      <td>0.712797</td>\n",
       "      <td>LABEL_4</td>\n",
       "      <td>0.712797</td>\n",
       "      <td>0.003804</td>\n",
       "      <td>0.105915</td>\n",
       "      <td>0.890281</td>\n",
       "      <td>LABEL_4</td>\n",
       "      <td>0.890281</td>\n",
       "      <td>LABEL_4</td>\n",
       "    </tr>\n",
       "    <tr>\n",
       "      <th>82</th>\n",
       "      <td>4616.0</td>\n",
       "      <td>&lt;NAME&gt; is also on our school's cross-country t...</td>\n",
       "      <td>83</td>\n",
       "      <td>0.051705</td>\n",
       "      <td>0.027155</td>\n",
       "      <td>0.060549</td>\n",
       "      <td>0.170278</td>\n",
       "      <td>0.690313</td>\n",
       "      <td>LABEL_4</td>\n",
       "      <td>0.690313</td>\n",
       "      <td>...</td>\n",
       "      <td>0.381540</td>\n",
       "      <td>0.458656</td>\n",
       "      <td>LABEL_4</td>\n",
       "      <td>0.458656</td>\n",
       "      <td>0.004868</td>\n",
       "      <td>0.749056</td>\n",
       "      <td>0.246076</td>\n",
       "      <td>LABEL_2</td>\n",
       "      <td>0.749056</td>\n",
       "      <td>LABEL_4</td>\n",
       "    </tr>\n",
       "  </tbody>\n",
       "</table>\n",
       "<p>10 rows × 32 columns</p>\n",
       "</div>"
      ],
      "text/plain": [
       "    invitationid                                      sentence_text  index  \\\n",
       "39        4579.0  In twenty years, <NAME> is someone we will be ...     40   \n",
       "35        4579.0  Her experiences in DECA, Speech Team, Student ...     36   \n",
       "64        4598.0  <NAME> loves learning and education, and whate...     65   \n",
       "74        4616.0  His assignments were always completed on time ...     75   \n",
       "55        4598.0  For instance, one of her favorite projects was...     56   \n",
       "87        4616.0  He is certainly deserving, and I cannot imagin...     88   \n",
       "57        4598.0  They had to communicate the idea primarily wit...     58   \n",
       "27        4579.0  Needless to say, when she appeared on my Advan...     28   \n",
       "75        4616.0  Most impressively, he has taken and passed the...     76   \n",
       "82        4616.0  <NAME> is also on our school's cross-country t...     83   \n",
       "\n",
       "    LABEL_0_yelp  LABEL_1_yelp  LABEL_2_yelp  LABEL_3_yelp  LABEL_4_yelp  \\\n",
       "39      0.002651      0.002115      0.006538      0.084025      0.904671   \n",
       "35      0.002401      0.001140      0.002212      0.024717      0.969530   \n",
       "64      0.001397      0.001359      0.006574      0.067656      0.923014   \n",
       "74      0.000594      0.000898      0.009597      0.172629      0.816282   \n",
       "55      0.092135      0.219371      0.318005      0.231076      0.139413   \n",
       "87      0.001734      0.001534      0.005647      0.049097      0.941989   \n",
       "57      0.484267      0.382999      0.121419      0.008371      0.002944   \n",
       "27      0.176622      0.160322      0.196781      0.174645      0.291630   \n",
       "75      0.001393      0.003233      0.031720      0.271351      0.692302   \n",
       "82      0.051705      0.027155      0.060549      0.170278      0.690313   \n",
       "\n",
       "   label_predict_yelp  label_prob_yelp  ...  LABEL_3_bert  LABEL_4_bert  \\\n",
       "39            LABEL_4         0.904671  ...      0.183271      0.783906   \n",
       "35            LABEL_4         0.969530  ...      0.384946      0.496330   \n",
       "64            LABEL_4         0.923014  ...      0.478210      0.432613   \n",
       "74            LABEL_4         0.816282  ...      0.315221      0.635724   \n",
       "55            LABEL_2         0.318005  ...      0.325371      0.342058   \n",
       "87            LABEL_4         0.941989  ...      0.246759      0.711338   \n",
       "57            LABEL_0         0.484267  ...      0.067000      0.012075   \n",
       "27            LABEL_4         0.291630  ...      0.187268      0.099072   \n",
       "75            LABEL_4         0.692302  ...      0.248310      0.712797   \n",
       "82            LABEL_4         0.690313  ...      0.381540      0.458656   \n",
       "\n",
       "   label_predict_bert  label_prob_bert  LABEL_0_twit  LABEL_2_twit  \\\n",
       "39            LABEL_4         0.783906      0.001134      0.019604   \n",
       "35            LABEL_4         0.496330      0.001699      0.256818   \n",
       "64            LABEL_3         0.478210      0.004148      0.072997   \n",
       "74            LABEL_4         0.635724      0.005954      0.143479   \n",
       "55            LABEL_4         0.342058      0.001884      0.083034   \n",
       "87            LABEL_4         0.711338      0.032989      0.117567   \n",
       "57            LABEL_1         0.418410      0.111573      0.833518   \n",
       "27            LABEL_1         0.295806      0.003098      0.062289   \n",
       "75            LABEL_4         0.712797      0.003804      0.105915   \n",
       "82            LABEL_4         0.458656      0.004868      0.749056   \n",
       "\n",
       "   LABEL_4_twit  label_predict_twit label_prob_twit  label_predict_imdb  \n",
       "39     0.979262             LABEL_4        0.979262             LABEL_4  \n",
       "35     0.741482             LABEL_4        0.741482             LABEL_4  \n",
       "64     0.922855             LABEL_4        0.922855             LABEL_4  \n",
       "74     0.850567             LABEL_4        0.850567             LABEL_4  \n",
       "55     0.915082             LABEL_4        0.915082             LABEL_4  \n",
       "87     0.849443             LABEL_4        0.849443             LABEL_4  \n",
       "57     0.054909             LABEL_2        0.833518             LABEL_4  \n",
       "27     0.934613             LABEL_4        0.934613             LABEL_4  \n",
       "75     0.890281             LABEL_4        0.890281             LABEL_4  \n",
       "82     0.246076             LABEL_2        0.749056             LABEL_4  \n",
       "\n",
       "[10 rows x 32 columns]"
      ]
     },
     "execution_count": 33,
     "metadata": {},
     "output_type": "execute_result"
    }
   ],
   "source": [
    "teacherrec_analyze.sample(10, random_state=1234)"
   ]
  },
  {
   "cell_type": "markdown",
   "metadata": {
    "id": "ZOiYnW9VgLG8"
   },
   "source": [
    "### Output the dataset"
   ]
  },
  {
   "cell_type": "code",
   "execution_count": 9,
   "metadata": {},
   "outputs": [],
   "source": [
    "#filepath = rootset + '/output_%s' % suffixset"
   ]
  },
  {
   "cell_type": "code",
   "execution_count": 11,
   "metadata": {},
   "outputs": [],
   "source": [
    "#folderchecker = os.path.exists(filepath)\n",
    "#if folderchecker==False:\n",
    "#    os.mkdir(filepath)"
   ]
  },
  {
   "cell_type": "code",
   "execution_count": 3,
   "metadata": {},
   "outputs": [],
   "source": [
    "#filepath = filepath + '/06_sentiment_prep_%s.csv' % currentarray\n",
    "#filepath = rootset + '/06_sentiment_prep_%s.csv' % currentarray"
   ]
  },
  {
   "cell_type": "code",
   "execution_count": 4,
   "metadata": {},
   "outputs": [],
   "source": [
    "filepath = rootset + '/06_%s_' % datagroupset\n",
    "filepath = filepath + 'sentiment_prep_%s.csv' % currentarray"
   ]
  },
  {
   "cell_type": "code",
   "execution_count": 47,
   "metadata": {},
   "outputs": [],
   "source": [
    "teacherrec_analyze.to_csv(filepath)"
   ]
  },
  {
   "cell_type": "code",
   "execution_count": null,
   "metadata": {},
   "outputs": [],
   "source": []
  }
 ],
 "metadata": {
  "accelerator": "GPU",
  "colab": {
   "authorship_tag": "ABX9TyMAuEB3gWvsNBmtDDWB1XwO",
   "collapsed_sections": [],
   "mount_file_id": "1PoEqjCSL3iefMoqJ81U-W8wQhtyQLU3-",
   "name": "03a_sentiment_analysis.ipynb",
   "provenance": []
  },
  "kernelspec": {
   "display_name": "Python 3 (ipykernel)",
   "language": "python",
   "name": "python3"
  },
  "language_info": {
   "codemirror_mode": {
    "name": "ipython",
    "version": 3
   },
   "file_extension": ".py",
   "mimetype": "text/x-python",
   "name": "python",
   "nbconvert_exporter": "python",
   "pygments_lexer": "ipython3",
   "version": "3.9.7"
  }
 },
 "nbformat": 4,
 "nbformat_minor": 4
}
